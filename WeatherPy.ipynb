{
 "cells": [
  {
   "cell_type": "markdown",
   "metadata": {},
   "source": [
    "# WeatherPy\n",
    "----\n",
    "\n",
    "#### Note\n",
    "* Instructions have been included for each segment. You do not have to follow them exactly, but they are included to help you think through the steps."
   ]
  },
  {
   "cell_type": "code",
   "execution_count": 10,
   "metadata": {
    "scrolled": true
   },
   "outputs": [
    {
     "name": "stdout",
     "output_type": "stream",
     "text": [
      "Collecting citipy==0.0.5\n",
      "  Downloading citipy-0.0.5.tar.gz (557 kB)\n",
      "Collecting kdtree>=0.12\n",
      "  Downloading kdtree-0.16-py2.py3-none-any.whl (7.7 kB)\n",
      "Building wheels for collected packages: citipy\n",
      "  Building wheel for citipy (setup.py): started\n",
      "  Building wheel for citipy (setup.py): finished with status 'done'\n",
      "  Created wheel for citipy: filename=citipy-0.0.5-py3-none-any.whl size=559700 sha256=b052c48ec182301d839f595ca6d260d0beea8c79b6ba266d9365ec04ce6e6cb6\n",
      "  Stored in directory: c:\\users\\magsu\\appdata\\local\\pip\\cache\\wheels\\6d\\df\\5e\\ad8eb9cc5ee7f4ba76865167c09f9a7edff405c669111d8353\n",
      "Successfully built citipy\n",
      "Installing collected packages: kdtree, citipy\n",
      "Successfully installed citipy-0.0.5 kdtree-0.16\n"
     ]
    }
   ],
   "source": [
    "# Dependencies and Setup\n",
    "!pip install citipy==0.0.5\n",
    "import matplotlib.pyplot as plt\n",
    "import pandas as pd\n",
    "import numpy as np\n",
    "import requests\n",
    "import time\n",
    "from scipy.stats import linregress\n",
    "\n",
    "# Import API key\n",
    "from api_keys import weather_api_key\n",
    "\n",
    "# Incorporated citipy to determine city based on latitude and longitude\n",
    "from citipy import citipy\n",
    "\n",
    "# Output File (CSV)\n",
    "output_data_file = \"output_data/cities.csv\"\n",
    "\n",
    "# Range of latitudes and longitudes\n",
    "lat_range = (-90, 90)\n",
    "lng_range = (-180, 180)"
   ]
  },
  {
   "cell_type": "markdown",
   "metadata": {},
   "source": [
    "## Generate Cities List"
   ]
  },
  {
   "cell_type": "code",
   "execution_count": 11,
   "metadata": {},
   "outputs": [
    {
     "data": {
      "text/plain": [
       "630"
      ]
     },
     "execution_count": 11,
     "metadata": {},
     "output_type": "execute_result"
    }
   ],
   "source": [
    "# List for holding lat_lngs and cities\n",
    "lat_lngs = []\n",
    "cities = []\n",
    "\n",
    "# Create a set of random lat and lng combinations\n",
    "lats = np.random.uniform(lat_range[0], lat_range[1], size=1500)\n",
    "lngs = np.random.uniform(lng_range[0], lng_range[1], size=1500)\n",
    "lat_lngs = zip(lats, lngs)\n",
    "\n",
    "# Identify nearest city for each lat, lng combination\n",
    "for lat_lng in lat_lngs:\n",
    "    city = citipy.nearest_city(lat_lng[0], lat_lng[1]).city_name\n",
    "    \n",
    "    # If the city is unique, then add it to a our cities list\n",
    "    if city not in cities:\n",
    "        cities.append(city)\n",
    "\n",
    "# Print the city count to confirm sufficient count\n",
    "len(cities)"
   ]
  },
  {
   "cell_type": "markdown",
   "metadata": {},
   "source": [
    "### Perform API Calls\n",
    "* Perform a weather check on each city using a series of successive API calls.\n",
    "* Include a print log of each city as it'sbeing processed (with the city number and city name).\n"
   ]
  },
  {
   "cell_type": "code",
   "execution_count": 13,
   "metadata": {
    "scrolled": true
   },
   "outputs": [
    {
     "name": "stdout",
     "output_type": "stream",
     "text": [
      "Processing record 1 of Set 1 | carnarvon\n",
      "Processing record 2 of Set 1 | champerico\n",
      "Processing record 3 of Set 1 | ushuaia\n",
      "Processing record 4 of Set 1 | ponta do sol\n",
      "Processing record 5 of Set 1 | thompson\n",
      "Processing record 6 of Set 1 | fairbanks\n",
      "Processing record 7 of Set 1 | tuktoyaktuk\n",
      "Processing record 8 of Set 1 | vaini\n",
      "Processing record 9 of Set 1 | taolanaro\n",
      "Processing record 10 of Set 1 | peterhead\n",
      "Processing record 11 of Set 1 | provideniya\n",
      "Processing record 12 of Set 1 | hasaki\n",
      "Processing record 13 of Set 1 | port alfred\n",
      "Processing record 14 of Set 1 | pelym\n",
      "Processing record 15 of Set 1 | pangnirtung\n",
      "Processing record 16 of Set 1 | kapaa\n",
      "Processing record 17 of Set 1 | yabrud\n",
      "Processing record 18 of Set 1 | vaitupu\n",
      "Processing record 19 of Set 1 | pacifica\n",
      "Processing record 20 of Set 1 | punta arenas\n",
      "Processing record 21 of Set 1 | shenjiamen\n",
      "Processing record 22 of Set 1 | bluff\n",
      "Processing record 23 of Set 1 | muros\n",
      "Processing record 24 of Set 1 | hamilton\n",
      "Processing record 25 of Set 1 | plettenberg bay\n",
      "Processing record 26 of Set 1 | fortuna\n",
      "Processing record 27 of Set 1 | hobart\n",
      "Processing record 28 of Set 1 | severo-kurilsk\n",
      "Processing record 29 of Set 1 | vestbygda\n",
      "Processing record 30 of Set 1 | selikhino\n",
      "Processing record 31 of Set 1 | mys shmidta\n",
      "Processing record 32 of Set 1 | beringovskiy\n",
      "Processing record 33 of Set 1 | mataura\n",
      "Processing record 34 of Set 1 | bafq\n",
      "Processing record 35 of Set 1 | maniitsoq\n",
      "Processing record 36 of Set 1 | east london\n",
      "Processing record 37 of Set 1 | bubaque\n",
      "Processing record 38 of Set 1 | qaanaaq\n",
      "Processing record 39 of Set 1 | venice\n",
      "Processing record 40 of Set 1 | carndonagh\n",
      "Processing record 41 of Set 1 | upernavik\n",
      "Processing record 42 of Set 1 | kiama\n",
      "Processing record 43 of Set 1 | andenes\n",
      "Processing record 44 of Set 1 | butaritari\n",
      "Processing record 45 of Set 1 | hermanus\n",
      "Processing record 46 of Set 1 | torbay\n",
      "Processing record 47 of Set 1 | kavaratti\n",
      "Processing record 48 of Set 1 | talnakh\n",
      "Processing record 49 of Set 1 | egvekinot\n",
      "Processing record 50 of Set 1 | flinders\n",
      "Processing record 51 of Set 1 | saint-philippe\n",
      "Processing record 52 of Set 1 | broome\n",
      "Processing record 53 of Set 1 | zhigansk\n",
      "Processing record 54 of Set 1 | cabo san lucas\n",
      "Processing record 55 of Set 1 | shizukuishi\n",
      "Processing record 56 of Set 1 | longyearbyen\n",
      "Processing record 57 of Set 1 | cairns\n",
      "Processing record 58 of Set 1 | trincomalee\n",
      "Processing record 59 of Set 1 | hilo\n",
      "Processing record 60 of Set 1 | soavinandriana\n",
      "Processing record 61 of Set 1 | iqaluit\n",
      "Processing record 62 of Set 1 | tezu\n",
      "Processing record 63 of Set 1 | kashi\n",
      "Processing record 64 of Set 1 | cidreira\n",
      "Processing record 65 of Set 1 | jamestown\n",
      "Processing record 66 of Set 1 | new norfolk\n",
      "Processing record 67 of Set 1 | bredasdorp\n",
      "Processing record 68 of Set 1 | arraial do cabo\n",
      "Processing record 69 of Set 1 | falkenberg\n",
      "Processing record 70 of Set 1 | aksu\n",
      "Processing record 71 of Set 1 | san vicente\n",
      "Processing record 72 of Set 1 | luderitz\n",
      "Processing record 73 of Set 1 | santana do livramento\n",
      "Processing record 74 of Set 1 | illoqqortoormiut\n",
      "Processing record 75 of Set 1 | juneau\n",
      "Processing record 76 of Set 1 | college\n",
      "Processing record 77 of Set 1 | tiksi\n",
      "Processing record 78 of Set 1 | sayan\n",
      "Processing record 79 of Set 1 | sataua\n",
      "Processing record 80 of Set 1 | don sak\n",
      "Processing record 81 of Set 1 | port elizabeth\n",
      "Processing record 82 of Set 1 | bambanglipuro\n",
      "Processing record 83 of Set 1 | longyan\n",
      "Processing record 84 of Set 1 | bethel\n",
      "Processing record 85 of Set 1 | bonavista\n",
      "Processing record 86 of Set 1 | comodoro rivadavia\n",
      "Processing record 87 of Set 1 | arlit\n",
      "Processing record 88 of Set 1 | caravelas\n",
      "Processing record 89 of Set 1 | haines junction\n",
      "Processing record 90 of Set 1 | kaitangata\n",
      "Processing record 91 of Set 1 | atuona\n",
      "Processing record 92 of Set 1 | muroto\n",
      "Processing record 93 of Set 1 | souillac\n",
      "Processing record 94 of Set 1 | ler\n",
      "Processing record 95 of Set 1 | rikitea\n",
      "Processing record 96 of Set 1 | quatre cocos\n",
      "Processing record 97 of Set 1 | cherskiy\n",
      "Processing record 98 of Set 1 | yellowknife\n",
      "Processing record 99 of Set 1 | rum\n",
      "Processing record 100 of Set 1 | leningradskiy\n",
      "Processing record 101 of Set 1 | dujuma\n",
      "Processing record 102 of Set 1 | bakchar\n",
      "Processing record 103 of Set 1 | key west\n",
      "Processing record 104 of Set 1 | grand gaube\n",
      "Processing record 105 of Set 1 | port augusta\n",
      "Processing record 106 of Set 1 | avarua\n",
      "Processing record 107 of Set 1 | matara\n",
      "Processing record 108 of Set 1 | georgetown\n",
      "Processing record 109 of Set 1 | hunza\n",
      "Processing record 110 of Set 1 | hami\n",
      "Processing record 111 of Set 1 | samusu\n",
      "Processing record 112 of Set 1 | mount gambier\n",
      "Processing record 113 of Set 1 | saleaula\n",
      "Processing record 114 of Set 1 | nome\n",
      "Processing record 115 of Set 1 | samana\n",
      "Processing record 116 of Set 1 | leiyang\n",
      "Processing record 117 of Set 1 | deer lake\n",
      "Processing record 118 of Set 1 | le port\n",
      "Processing record 119 of Set 1 | bontang\n",
      "Processing record 120 of Set 1 | cockburn town\n",
      "Processing record 121 of Set 1 | tilichiki\n",
      "Processing record 122 of Set 1 | tucuma\n",
      "Processing record 123 of Set 1 | hithadhoo\n",
      "Processing record 124 of Set 1 | pevek\n",
      "Processing record 125 of Set 1 | bayir\n",
      "Processing record 126 of Set 1 | chikwawa\n",
      "Processing record 127 of Set 1 | busselton\n",
      "Processing record 128 of Set 1 | passo de camaragibe\n",
      "Processing record 129 of Set 1 | chokurdakh\n",
      "Processing record 130 of Set 1 | beyneu\n",
      "Processing record 131 of Set 1 | itaobim\n",
      "Processing record 132 of Set 1 | albany\n",
      "Processing record 133 of Set 1 | moron\n",
      "Processing record 134 of Set 1 | atherton\n",
      "Processing record 135 of Set 1 | kuvandyk\n",
      "Processing record 136 of Set 1 | aklavik\n",
      "Processing record 137 of Set 1 | chara\n",
      "Processing record 138 of Set 1 | wajima\n",
      "Processing record 139 of Set 1 | sambava\n",
      "Processing record 140 of Set 1 | nikolskoye\n",
      "Processing record 141 of Set 1 | esperance\n",
      "Processing record 142 of Set 1 | ribeira grande\n",
      "Processing record 143 of Set 1 | batemans bay\n",
      "Processing record 144 of Set 1 | sao joao da barra\n",
      "Processing record 145 of Set 1 | howard springs\n",
      "Processing record 146 of Set 1 | tasiilaq\n",
      "Processing record 147 of Set 1 | mazara del vallo\n",
      "Processing record 148 of Set 1 | ayan\n",
      "Processing record 149 of Set 1 | iquique\n",
      "Processing record 150 of Set 1 | khatanga\n",
      "Processing record 151 of Set 1 | pastavy\n",
      "Processing record 152 of Set 1 | dunmore town\n",
      "Processing record 153 of Set 1 | gat\n",
      "Processing record 154 of Set 1 | la plata\n",
      "Processing record 155 of Set 1 | ilulissat\n",
      "Processing record 156 of Set 1 | pakwach\n",
      "Processing record 157 of Set 1 | victoria\n",
      "Processing record 158 of Set 1 | novoagansk\n",
      "Processing record 159 of Set 1 | yarkovo\n",
      "Processing record 160 of Set 1 | katsuura\n",
      "Processing record 161 of Set 1 | gold coast\n",
      "Processing record 162 of Set 1 | chapais\n",
      "Processing record 163 of Set 1 | strai\n",
      "Processing record 164 of Set 1 | norman wells\n",
      "Processing record 165 of Set 1 | ratnagiri\n",
      "Processing record 166 of Set 1 | dakoro\n",
      "Processing record 167 of Set 1 | besikduzu\n",
      "Processing record 168 of Set 1 | amla\n",
      "Processing record 169 of Set 1 | ahipara\n",
      "Processing record 170 of Set 1 | ambon\n",
      "Processing record 171 of Set 1 | salalah\n",
      "Processing record 172 of Set 1 | kavieng\n",
      "Processing record 173 of Set 1 | perigueux\n",
      "Processing record 174 of Set 1 | turukhansk\n",
      "Processing record 175 of Set 1 | tumannyy\n",
      "Processing record 176 of Set 1 | hualmay\n",
      "Processing record 177 of Set 1 | moiyabana\n",
      "Processing record 178 of Set 1 | xiaoshan\n",
      "Processing record 179 of Set 1 | roma\n",
      "Processing record 180 of Set 1 | cape town\n",
      "Processing record 181 of Set 1 | gorontalo\n",
      "Processing record 182 of Set 1 | puerto ayora\n",
      "Processing record 183 of Set 1 | dve mogili\n",
      "Processing record 184 of Set 1 | lagos\n",
      "Processing record 185 of Set 1 | sint michiel\n",
      "Processing record 186 of Set 1 | yining\n",
      "Processing record 187 of Set 1 | mundo nuevo\n",
      "Processing record 188 of Set 1 | olafsvik\n",
      "Processing record 189 of Set 1 | san cristobal\n",
      "Processing record 190 of Set 1 | erzin\n",
      "Processing record 191 of Set 1 | vangaindrano\n",
      "Processing record 192 of Set 1 | el faiyum\n",
      "Processing record 193 of Set 1 | charlestown\n",
      "Processing record 194 of Set 1 | bereda\n",
      "Processing record 195 of Set 1 | channel-port aux basques\n",
      "Processing record 196 of Set 1 | chuy\n",
      "Processing record 197 of Set 1 | pandan\n",
      "Processing record 198 of Set 1 | honiara\n",
      "Processing record 199 of Set 1 | abnub\n",
      "Processing record 200 of Set 1 | castro\n",
      "Processing record 201 of Set 1 | fort smith\n",
      "Processing record 202 of Set 1 | mareeba\n",
      "Processing record 203 of Set 1 | margate\n",
      "Processing record 204 of Set 1 | gornopravdinsk\n",
      "Processing record 205 of Set 1 | san patricio\n",
      "Processing record 206 of Set 1 | nanortalik\n",
      "Processing record 207 of Set 1 | eresos\n",
      "Processing record 208 of Set 1 | sitka\n",
      "Processing record 209 of Set 1 | great bend\n",
      "Processing record 210 of Set 1 | ancud\n",
      "Processing record 211 of Set 1 | mahebourg\n",
      "Processing record 212 of Set 1 | khonuu\n",
      "Processing record 213 of Set 1 | nishihara\n",
      "Processing record 214 of Set 1 | weligama\n",
      "Processing record 215 of Set 1 | buchanan\n",
      "Processing record 216 of Set 1 | zheleznodorozhnyy\n",
      "Processing record 217 of Set 1 | guerrero negro\n",
      "Processing record 218 of Set 1 | lively\n",
      "Processing record 219 of Set 1 | belushya guba\n",
      "Processing record 220 of Set 1 | ahuimanu\n",
      "Processing record 221 of Set 1 | lebu\n",
      "Processing record 222 of Set 1 | saskylakh\n",
      "Processing record 223 of Set 1 | vesoul\n",
      "Processing record 224 of Set 1 | panaba\n",
      "Processing record 225 of Set 1 | yanchukan\n",
      "Processing record 226 of Set 1 | bengkulu\n",
      "Processing record 227 of Set 1 | nacunday\n",
      "Processing record 228 of Set 1 | vryburg\n",
      "Processing record 229 of Set 1 | lompoc\n",
      "Processing record 230 of Set 1 | sakhon nakhon\n",
      "Processing record 231 of Set 1 | tanout\n",
      "Processing record 232 of Set 1 | valparaiso\n",
      "Processing record 233 of Set 1 | kapiri mposhi\n",
      "Processing record 234 of Set 1 | port hedland\n",
      "Processing record 235 of Set 1 | inverell\n",
      "Processing record 236 of Set 1 | tessalit\n",
      "Processing record 237 of Set 1 | bathsheba\n",
      "Processing record 238 of Set 1 | swan river\n",
      "Processing record 239 of Set 1 | hofn\n",
      "Processing record 240 of Set 1 | wanaka\n",
      "Processing record 241 of Set 1 | dikson\n",
      "Processing record 242 of Set 1 | karaul\n",
      "Processing record 243 of Set 1 | tabialan\n",
      "Processing record 244 of Set 1 | doha\n",
      "Processing record 245 of Set 1 | polewali\n",
      "Processing record 246 of Set 1 | tarko-sale\n",
      "Processing record 247 of Set 1 | zalegoshch\n",
      "Processing record 248 of Set 1 | xiamen\n",
      "Processing record 249 of Set 1 | amderma\n",
      "Processing record 250 of Set 1 | ponta delgada\n",
      "Processing record 251 of Set 1 | bambous virieux\n",
      "Processing record 252 of Set 1 | clyde river\n",
      "Processing record 253 of Set 1 | sept-iles\n",
      "Processing record 254 of Set 1 | barentsburg\n",
      "Processing record 255 of Set 1 | jasidih\n",
      "Processing record 256 of Set 1 | acapulco\n",
      "Processing record 257 of Set 1 | bilma\n",
      "Processing record 258 of Set 1 | paranga\n",
      "Processing record 259 of Set 1 | skibbereen\n",
      "Processing record 260 of Set 1 | camacha\n",
      "Processing record 261 of Set 1 | nuuk\n",
      "Processing record 262 of Set 1 | tiarei\n",
      "Processing record 263 of Set 1 | aberdeen\n",
      "Processing record 264 of Set 1 | iwanai\n",
      "Processing record 265 of Set 1 | airai\n",
      "Processing record 266 of Set 1 | mahanje\n",
      "Processing record 267 of Set 1 | ostrovnoy\n",
      "Processing record 268 of Set 1 | ibaiti\n",
      "Processing record 269 of Set 1 | klyuchi\n",
      "Processing record 270 of Set 1 | pendleton\n",
      "Processing record 271 of Set 1 | camacupa\n",
      "Processing record 272 of Set 1 | lerwick\n",
      "Processing record 273 of Set 1 | kruisfontein\n",
      "Processing record 274 of Set 1 | hattiesburg\n",
      "Processing record 275 of Set 1 | nemuro\n",
      "Processing record 276 of Set 1 | mar del plata\n",
      "Processing record 277 of Set 1 | chifeng\n",
      "Processing record 278 of Set 1 | san benito\n",
      "Processing record 279 of Set 1 | port lincoln\n",
      "Processing record 280 of Set 1 | brae\n",
      "Processing record 281 of Set 1 | darhan\n",
      "Processing record 282 of Set 1 | havre-saint-pierre\n",
      "Processing record 283 of Set 1 | batagay-alyta\n",
      "Processing record 284 of Set 1 | palu\n",
      "Processing record 285 of Set 1 | necochea\n",
      "Processing record 286 of Set 1 | kyzyl-suu\n",
      "Processing record 287 of Set 1 | portland\n",
      "Processing record 288 of Set 1 | calama\n",
      "Processing record 289 of Set 1 | sao filipe\n",
      "Processing record 290 of Set 1 | saint george\n",
      "Processing record 291 of Set 1 | kodiak\n",
      "Processing record 292 of Set 1 | hervey bay\n",
      "Processing record 293 of Set 1 | marsh harbour\n",
      "Processing record 294 of Set 1 | sentyabrskiy\n",
      "Processing record 295 of Set 1 | jinchang\n",
      "Processing record 296 of Set 1 | buraydah\n",
      "Processing record 297 of Set 1 | shimoda\n",
      "Processing record 298 of Set 1 | touros\n",
      "Processing record 299 of Set 1 | praia da vitoria\n",
      "Processing record 300 of Set 1 | luanda\n",
      "Processing record 301 of Set 1 | escanaba\n",
      "Processing record 302 of Set 1 | wanning\n",
      "Processing record 303 of Set 1 | camopi\n",
      "Processing record 304 of Set 1 | naze\n",
      "Processing record 305 of Set 1 | rungata\n",
      "Processing record 306 of Set 1 | tevaitoa\n",
      "Processing record 307 of Set 1 | havre de grace\n",
      "Processing record 308 of Set 1 | antofagasta\n",
      "Processing record 309 of Set 1 | nuristan\n",
      "Processing record 310 of Set 1 | ati\n",
      "Processing record 311 of Set 1 | moyale\n",
      "Processing record 312 of Set 1 | sao jose da coroa grande\n",
      "Processing record 313 of Set 1 | thinadhoo\n",
      "Processing record 314 of Set 1 | tautira\n",
      "Processing record 315 of Set 1 | marsa matruh\n",
      "Processing record 316 of Set 1 | karamea\n",
      "Processing record 317 of Set 1 | spencer\n",
      "Processing record 318 of Set 1 | ellisras\n",
      "Processing record 319 of Set 1 | komsomolskiy\n",
      "Processing record 320 of Set 1 | itapirapua\n",
      "Processing record 321 of Set 1 | tsihombe\n",
      "Processing record 322 of Set 1 | yumen\n",
      "Processing record 323 of Set 1 | kailua\n",
      "Processing record 324 of Set 1 | vestmannaeyjar\n",
      "Processing record 325 of Set 1 | zharkent\n",
      "Processing record 326 of Set 1 | esmeraldas\n",
      "Processing record 327 of Set 1 | del rio\n",
      "Processing record 328 of Set 1 | waipawa\n",
      "Processing record 329 of Set 1 | vanimo\n",
      "Processing record 330 of Set 1 | clarence town\n",
      "Processing record 331 of Set 1 | aquiraz\n",
      "Processing record 332 of Set 1 | shaunavon\n",
      "Processing record 333 of Set 1 | lasa\n",
      "Processing record 334 of Set 1 | pointe-noire\n",
      "Processing record 335 of Set 1 | staritsa\n",
      "Processing record 336 of Set 1 | amapa\n",
      "Processing record 337 of Set 1 | mazeikiai\n",
      "Processing record 338 of Set 1 | codrington\n",
      "Processing record 339 of Set 1 | mocambique\n",
      "Processing record 340 of Set 1 | tabas\n",
      "Processing record 341 of Set 1 | estelle\n",
      "Processing record 342 of Set 1 | lexington\n",
      "Processing record 343 of Set 1 | stephenville\n",
      "Processing record 344 of Set 1 | klaksvik\n",
      "Processing record 345 of Set 1 | manokwari\n",
      "Processing record 346 of Set 1 | kogon\n",
      "Processing record 347 of Set 1 | mitu\n",
      "Processing record 348 of Set 1 | ambulu\n",
      "Processing record 349 of Set 1 | unidos\n",
      "Processing record 350 of Set 1 | jamundi\n",
      "Processing record 351 of Set 1 | barrow\n",
      "Processing record 352 of Set 1 | kosa\n",
      "Processing record 353 of Set 1 | ketchikan\n",
      "Processing record 354 of Set 1 | logan\n",
      "Processing record 355 of Set 1 | hovd\n",
      "Processing record 356 of Set 1 | tiznit\n",
      "Processing record 357 of Set 1 | anadyr\n",
      "Processing record 358 of Set 1 | kangalassy\n",
      "Processing record 359 of Set 1 | kulu\n",
      "Processing record 360 of Set 1 | esna\n",
      "Processing record 361 of Set 1 | barcelos\n",
      "Processing record 362 of Set 1 | goderich\n",
      "Processing record 363 of Set 1 | grand river south east\n",
      "Processing record 364 of Set 1 | hwange\n",
      "Processing record 365 of Set 1 | kholmogory\n",
      "Processing record 366 of Set 1 | adrar\n",
      "Processing record 367 of Set 1 | benalla\n",
      "Processing record 368 of Set 1 | avera\n",
      "Processing record 369 of Set 1 | khani\n",
      "Processing record 370 of Set 1 | katunayaka\n",
      "Processing record 371 of Set 1 | san quintin\n",
      "Processing record 372 of Set 1 | isparta\n",
      "Processing record 373 of Set 1 | sai buri\n",
      "Processing record 374 of Set 1 | petropavlovsk-kamchatskiy\n",
      "Processing record 375 of Set 1 | isla aguada\n",
      "Processing record 376 of Set 1 | imbituba\n",
      "Processing record 377 of Set 1 | husavik\n",
      "Processing record 378 of Set 1 | front royal\n",
      "Processing record 379 of Set 1 | baherden\n",
      "Processing record 380 of Set 1 | westport\n",
      "Processing record 381 of Set 1 | steamboat springs\n",
      "Processing record 382 of Set 1 | malakal\n",
      "Processing record 383 of Set 1 | ranong\n",
      "Processing record 384 of Set 1 | ejura\n",
      "Processing record 385 of Set 1 | qinhuangdao\n",
      "Processing record 386 of Set 1 | leningradskaya\n",
      "Processing record 387 of Set 1 | pizarro\n",
      "Processing record 388 of Set 1 | tuy hoa\n",
      "Processing record 389 of Set 1 | seoul\n",
      "Processing record 390 of Set 1 | vila do maio\n",
      "Processing record 391 of Set 1 | apatou\n",
      "Processing record 392 of Set 1 | mount isa\n",
      "Processing record 393 of Set 1 | nalut\n",
      "Processing record 394 of Set 1 | cabedelo\n",
      "Processing record 395 of Set 1 | inhambane\n",
      "Processing record 396 of Set 1 | viligili\n",
      "Processing record 397 of Set 1 | karratha\n",
      "Processing record 398 of Set 1 | luneburg\n",
      "Processing record 399 of Set 1 | micheweni\n",
      "Processing record 400 of Set 1 | oranjemund\n",
      "Processing record 401 of Set 1 | svetlaya\n",
      "Processing record 402 of Set 1 | amarwara\n",
      "Processing record 403 of Set 1 | dolbeau\n",
      "Processing record 404 of Set 1 | manacapuru\n",
      "Processing record 405 of Set 1 | san jeronimo\n",
      "Processing record 406 of Set 1 | ardesen\n",
      "Processing record 407 of Set 1 | porto novo\n",
      "Processing record 408 of Set 1 | biak\n",
      "Processing record 409 of Set 1 | saint-augustin\n",
      "Processing record 410 of Set 1 | poopo\n",
      "Processing record 411 of Set 1 | basay\n",
      "Processing record 412 of Set 1 | inuvik\n",
      "Processing record 413 of Set 1 | saquarema\n",
      "Processing record 414 of Set 1 | nabire\n",
      "Processing record 415 of Set 1 | huilong\n",
      "Processing record 416 of Set 1 | port blair\n",
      "Processing record 417 of Set 1 | ruteng\n",
      "Processing record 418 of Set 1 | ramsi\n",
      "Processing record 419 of Set 1 | hidrolandia\n",
      "Processing record 420 of Set 1 | vanavara\n",
      "Processing record 421 of Set 1 | nyurba\n",
      "Processing record 422 of Set 1 | skelleftea\n",
      "Processing record 423 of Set 1 | ivanivka\n",
      "Processing record 424 of Set 1 | mitzic\n",
      "Processing record 425 of Set 1 | zhangzhou\n",
      "Processing record 426 of Set 1 | qiongshan\n",
      "Processing record 427 of Set 1 | seminole\n",
      "Processing record 428 of Set 1 | erdenet\n",
      "Processing record 429 of Set 1 | yar-sale\n",
      "Processing record 430 of Set 1 | antsohihy\n",
      "Processing record 431 of Set 1 | vostok\n",
      "Processing record 432 of Set 1 | bay city\n",
      "Processing record 433 of Set 1 | maceio\n",
      "Processing record 434 of Set 1 | dudinka\n",
      "Processing record 435 of Set 1 | at-bashi\n",
      "Processing record 436 of Set 1 | pemberton\n",
      "Processing record 437 of Set 1 | mezhdurechensk\n",
      "Processing record 438 of Set 1 | umm kaddadah\n",
      "Processing record 439 of Set 1 | gander\n",
      "Processing record 440 of Set 1 | dicabisagan\n",
      "Processing record 441 of Set 1 | la ronge\n",
      "Processing record 442 of Set 1 | kaputa\n",
      "Processing record 443 of Set 1 | aktash\n",
      "Processing record 444 of Set 1 | andahuaylas\n",
      "Processing record 445 of Set 1 | alta floresta\n",
      "Processing record 446 of Set 1 | tual\n",
      "Processing record 447 of Set 1 | labuan\n",
      "Processing record 448 of Set 1 | mandalgovi\n",
      "Processing record 449 of Set 1 | guaraniacu\n",
      "Processing record 450 of Set 1 | meyungs\n",
      "Processing record 451 of Set 1 | potiskum\n",
      "Processing record 452 of Set 1 | wilmington\n",
      "Processing record 453 of Set 1 | qurayyat\n",
      "Processing record 454 of Set 1 | mae sai\n",
      "Processing record 455 of Set 1 | alofi\n",
      "Processing record 456 of Set 1 | kahului\n",
      "Processing record 457 of Set 1 | florianopolis\n",
      "Processing record 458 of Set 1 | coquimbo\n",
      "Processing record 459 of Set 1 | borogontsy\n",
      "Processing record 460 of Set 1 | ixtapa\n",
      "Processing record 461 of Set 1 | bumbuna\n",
      "Processing record 462 of Set 1 | plouzane\n",
      "Processing record 463 of Set 1 | aljezur\n",
      "Processing record 464 of Set 1 | prince rupert\n",
      "Processing record 465 of Set 1 | salinopolis\n",
      "Processing record 466 of Set 1 | jinka\n",
      "Processing record 467 of Set 1 | danjiangkou\n",
      "Processing record 468 of Set 1 | kafanchan\n",
      "Processing record 469 of Set 1 | ulaanbaatar\n",
      "Processing record 470 of Set 1 | port macquarie\n",
      "Processing record 471 of Set 1 | kashira\n",
      "Processing record 472 of Set 1 | neiafu\n",
      "Processing record 473 of Set 1 | kulhudhuffushi\n",
      "Processing record 474 of Set 1 | jalu\n",
      "Processing record 475 of Set 1 | kupang\n",
      "Processing record 476 of Set 1 | kandry\n",
      "Processing record 477 of Set 1 | olinda\n",
      "Processing record 478 of Set 1 | makokou\n",
      "Processing record 479 of Set 1 | uvira\n",
      "Processing record 480 of Set 1 | poum\n",
      "Processing record 481 of Set 1 | iralaya\n",
      "Processing record 482 of Set 1 | eureka\n",
      "Processing record 483 of Set 1 | terney\n",
      "Processing record 484 of Set 1 | rudbar\n",
      "Processing record 485 of Set 1 | sajanan\n",
      "Processing record 486 of Set 1 | tomatlan\n",
      "Processing record 487 of Set 1 | ruatoria\n",
      "Processing record 488 of Set 1 | srandakan\n",
      "Processing record 489 of Set 1 | podhum\n",
      "Processing record 490 of Set 1 | buala\n",
      "Processing record 491 of Set 1 | curup\n",
      "Processing record 492 of Set 1 | alotau\n",
      "Processing record 493 of Set 1 | pacific grove\n",
      "Processing record 494 of Set 1 | lagoa\n",
      "Processing record 495 of Set 1 | hay river\n",
      "Processing record 496 of Set 1 | umzimvubu\n",
      "Processing record 497 of Set 1 | kisanga\n",
      "Processing record 498 of Set 1 | picos\n",
      "Processing record 499 of Set 1 | banda aceh\n",
      "Processing record 500 of Set 1 | cabra\n",
      "Processing record 501 of Set 1 | tucupita\n",
      "Processing record 502 of Set 1 | phan thiet\n",
      "Processing record 503 of Set 1 | susanville\n",
      "Processing record 504 of Set 1 | havoysund\n",
      "Processing record 505 of Set 1 | alugan\n",
      "Processing record 506 of Set 1 | dingle\n",
      "Processing record 507 of Set 1 | constitucion\n",
      "Processing record 508 of Set 1 | samalaeulu\n",
      "Processing record 509 of Set 1 | istok\n",
      "Processing record 510 of Set 1 | natal\n",
      "Processing record 511 of Set 1 | birjand\n",
      "Processing record 512 of Set 1 | sahrak\n",
      "Processing record 513 of Set 1 | nizhneyansk\n",
      "Processing record 514 of Set 1 | wodonga\n",
      "Processing record 515 of Set 1 | mama\n",
      "Processing record 516 of Set 1 | suzhou\n",
      "Processing record 517 of Set 1 | eldoret\n",
      "Processing record 518 of Set 1 | tecoanapa\n",
      "Processing record 519 of Set 1 | cosala\n",
      "Processing record 520 of Set 1 | coihaique\n",
      "Processing record 521 of Set 1 | bac lieu\n",
      "Processing record 522 of Set 1 | anqing\n",
      "Processing record 523 of Set 1 | burdur\n",
      "Processing record 524 of Set 1 | vallenar\n",
      "Processing record 525 of Set 1 | zagare\n",
      "Processing record 526 of Set 1 | gizo\n",
      "Processing record 527 of Set 1 | el carmen\n",
      "Processing record 528 of Set 1 | kem\n",
      "Processing record 529 of Set 1 | wattegama\n",
      "Processing record 530 of Set 1 | moose factory\n",
      "Processing record 531 of Set 1 | emerald\n",
      "Processing record 532 of Set 1 | samarai\n",
      "Processing record 533 of Set 1 | paita\n",
      "Processing record 534 of Set 1 | chaoyang\n",
      "Processing record 535 of Set 1 | matamoros\n",
      "Processing record 536 of Set 1 | bukachacha\n",
      "Processing record 537 of Set 1 | ijaki\n",
      "Processing record 538 of Set 1 | general cepeda\n",
      "Processing record 539 of Set 1 | bandar-e torkaman\n",
      "Processing record 540 of Set 1 | maltahohe\n",
      "Processing record 541 of Set 1 | okhotsk\n",
      "Processing record 542 of Set 1 | normandin\n",
      "Processing record 543 of Set 1 | castro alves\n",
      "Processing record 544 of Set 1 | omboue\n",
      "Processing record 545 of Set 1 | nioro\n",
      "Processing record 546 of Set 1 | koszalin\n",
      "Processing record 547 of Set 1 | attawapiskat\n",
      "Processing record 548 of Set 1 | orotukan\n",
      "Processing record 549 of Set 1 | menongue\n",
      "Processing record 550 of Set 1 | rangpur\n",
      "Processing record 551 of Set 1 | vila franca do campo\n",
      "Processing record 552 of Set 1 | bilibino\n",
      "Processing record 553 of Set 1 | berdigestyakh\n",
      "Processing record 554 of Set 1 | santona\n",
      "Processing record 555 of Set 1 | mogadishu\n",
      "Processing record 556 of Set 1 | kuche\n",
      "Processing record 557 of Set 1 | vila velha\n",
      "Processing record 558 of Set 1 | agirish\n",
      "Processing record 559 of Set 1 | pisco\n",
      "Processing record 560 of Set 1 | toungoo\n",
      "Processing record 561 of Set 1 | shellbrook\n",
      "Processing record 562 of Set 1 | san juan\n",
      "Processing record 563 of Set 1 | sumbawa\n",
      "Processing record 564 of Set 1 | mandan\n",
      "Processing record 565 of Set 1 | limpapa\n",
      "Processing record 566 of Set 1 | vardo\n",
      "Processing record 567 of Set 1 | taoudenni\n",
      "Processing record 568 of Set 1 | katha\n",
      "Processing record 569 of Set 1 | richards bay\n",
      "Processing record 570 of Set 1 | mahibadhoo\n",
      "Processing record 571 of Set 1 | jiroft\n",
      "Processing record 572 of Set 1 | kota belud\n",
      "Processing record 573 of Set 1 | yerbogachen\n",
      "Processing record 574 of Set 1 | taltal\n",
      "Processing record 575 of Set 1 | trinidad\n",
      "Processing record 576 of Set 1 | linqiong\n",
      "Processing record 577 of Set 1 | broken hill\n",
      "Processing record 578 of Set 1 | vyartsilya\n",
      "Processing record 579 of Set 1 | te anau\n",
      "Processing record 580 of Set 1 | asau\n",
      "Processing record 581 of Set 1 | dzhebariki-khaya\n",
      "Processing record 582 of Set 1 | geraldton\n",
      "Processing record 583 of Set 1 | angoche\n",
      "Processing record 584 of Set 1 | tolaga bay\n",
      "Processing record 585 of Set 1 | saldanha\n",
      "Processing record 586 of Set 1 | najran\n",
      "Processing record 587 of Set 1 | timra\n",
      "Processing record 588 of Set 1 | shumskiy\n",
      "Processing record 589 of Set 1 | vicosa\n",
      "Processing record 590 of Set 1 | denizli\n",
      "Processing record 591 of Set 1 | namibe\n",
      "Processing record 592 of Set 1 | atar\n",
      "Processing record 593 of Set 1 | sharqpur\n",
      "Processing record 594 of Set 1 | ilovlya\n",
      "Processing record 595 of Set 1 | rocha\n",
      "Processing record 596 of Set 1 | saint-pierre\n",
      "Processing record 597 of Set 1 | half moon bay\n",
      "Processing record 598 of Set 1 | oistins\n",
      "Processing record 599 of Set 1 | godda\n",
      "Processing record 600 of Set 1 | pathein\n",
      "Processing record 601 of Set 1 | bodden town\n",
      "Processing record 602 of Set 1 | wangqing\n",
      "Processing record 603 of Set 1 | tynda\n",
      "Processing record 604 of Set 1 | mutsamudu\n",
      "Processing record 605 of Set 1 | burnie\n",
      "Processing record 606 of Set 1 | kalga\n",
      "Processing record 607 of Set 1 | taua\n",
      "Processing record 608 of Set 1 | belyy yar\n",
      "Processing record 609 of Set 1 | saint-leu\n",
      "Processing record 610 of Set 1 | rock sound\n",
      "Processing record 611 of Set 1 | kysyl-syr\n",
      "Processing record 612 of Set 1 | zhanatas\n",
      "Processing record 613 of Set 1 | buariki\n",
      "Processing record 614 of Set 1 | harper\n",
      "Processing record 615 of Set 1 | faanui\n",
      "Processing record 616 of Set 1 | ha tinh\n",
      "Processing record 617 of Set 1 | mergui\n",
      "Processing record 618 of Set 1 | pringsewu\n",
      "Processing record 619 of Set 1 | kamenskoye\n",
      "Processing record 620 of Set 1 | isangel\n",
      "Processing record 621 of Set 1 | daokou\n",
      "Processing record 622 of Set 1 | muyezerskiy\n",
      "Processing record 623 of Set 1 | iracoubo\n",
      "Processing record 624 of Set 1 | lannion\n",
      "Processing record 625 of Set 1 | polyarnyy\n",
      "Processing record 626 of Set 1 | abu samrah\n",
      "Processing record 627 of Set 1 | smithers\n",
      "Processing record 628 of Set 1 | cururupu\n",
      "Processing record 629 of Set 1 | leh\n",
      "Processing record 630 of Set 1 | basco\n"
     ]
    }
   ],
   "source": [
    "i = 1\n",
    "for city in cities:\n",
    "    print(f'Processing record {i} of Set 1 | {city}')\n",
    "    i = i + 1"
   ]
  },
  {
   "cell_type": "markdown",
   "metadata": {},
   "source": [
    "### Convert Raw Data to DataFrame\n",
    "* Export the city data into a .csv.\n",
    "* Display the DataFrame"
   ]
  },
  {
   "cell_type": "code",
   "execution_count": 15,
   "metadata": {},
   "outputs": [],
   "source": [
    "city_data = pd.read_csv(\"../\"+output_data_file)"
   ]
  },
  {
   "cell_type": "code",
   "execution_count": 40,
   "metadata": {},
   "outputs": [
    {
     "data": {
      "text/html": [
       "<div>\n",
       "<style scoped>\n",
       "    .dataframe tbody tr th:only-of-type {\n",
       "        vertical-align: middle;\n",
       "    }\n",
       "\n",
       "    .dataframe tbody tr th {\n",
       "        vertical-align: top;\n",
       "    }\n",
       "\n",
       "    .dataframe thead th {\n",
       "        text-align: right;\n",
       "    }\n",
       "</style>\n",
       "<table border=\"1\" class=\"dataframe\">\n",
       "  <thead>\n",
       "    <tr style=\"text-align: right;\">\n",
       "      <th></th>\n",
       "      <th>City_ID</th>\n",
       "      <th>City</th>\n",
       "      <th>Cloudiness</th>\n",
       "      <th>Country</th>\n",
       "      <th>Date</th>\n",
       "      <th>Humidity</th>\n",
       "      <th>Lat</th>\n",
       "      <th>Lng</th>\n",
       "      <th>Max Temp</th>\n",
       "      <th>Wind Speed</th>\n",
       "    </tr>\n",
       "  </thead>\n",
       "  <tbody>\n",
       "    <tr>\n",
       "      <th>0</th>\n",
       "      <td>0</td>\n",
       "      <td>ostrovnoy</td>\n",
       "      <td>2</td>\n",
       "      <td>RU</td>\n",
       "      <td>1558378754</td>\n",
       "      <td>72</td>\n",
       "      <td>68.05</td>\n",
       "      <td>39.51</td>\n",
       "      <td>37.50</td>\n",
       "      <td>7.16</td>\n",
       "    </tr>\n",
       "    <tr>\n",
       "      <th>1</th>\n",
       "      <td>1</td>\n",
       "      <td>mahebourg</td>\n",
       "      <td>75</td>\n",
       "      <td>MU</td>\n",
       "      <td>1558378503</td>\n",
       "      <td>74</td>\n",
       "      <td>-20.41</td>\n",
       "      <td>57.70</td>\n",
       "      <td>78.80</td>\n",
       "      <td>11.41</td>\n",
       "    </tr>\n",
       "    <tr>\n",
       "      <th>2</th>\n",
       "      <td>2</td>\n",
       "      <td>qaanaaq</td>\n",
       "      <td>25</td>\n",
       "      <td>GL</td>\n",
       "      <td>1558378755</td>\n",
       "      <td>73</td>\n",
       "      <td>77.48</td>\n",
       "      <td>-69.36</td>\n",
       "      <td>22.20</td>\n",
       "      <td>2.37</td>\n",
       "    </tr>\n",
       "    <tr>\n",
       "      <th>3</th>\n",
       "      <td>3</td>\n",
       "      <td>zhuhai</td>\n",
       "      <td>0</td>\n",
       "      <td>CN</td>\n",
       "      <td>1558378755</td>\n",
       "      <td>39</td>\n",
       "      <td>40.71</td>\n",
       "      <td>112.04</td>\n",
       "      <td>44.60</td>\n",
       "      <td>4.47</td>\n",
       "    </tr>\n",
       "    <tr>\n",
       "      <th>4</th>\n",
       "      <td>4</td>\n",
       "      <td>cape town</td>\n",
       "      <td>20</td>\n",
       "      <td>ZA</td>\n",
       "      <td>1558378755</td>\n",
       "      <td>76</td>\n",
       "      <td>-33.93</td>\n",
       "      <td>18.42</td>\n",
       "      <td>55.99</td>\n",
       "      <td>8.05</td>\n",
       "    </tr>\n",
       "    <tr>\n",
       "      <th>...</th>\n",
       "      <td>...</td>\n",
       "      <td>...</td>\n",
       "      <td>...</td>\n",
       "      <td>...</td>\n",
       "      <td>...</td>\n",
       "      <td>...</td>\n",
       "      <td>...</td>\n",
       "      <td>...</td>\n",
       "      <td>...</td>\n",
       "      <td>...</td>\n",
       "    </tr>\n",
       "    <tr>\n",
       "      <th>543</th>\n",
       "      <td>543</td>\n",
       "      <td>yabrud</td>\n",
       "      <td>0</td>\n",
       "      <td>SY</td>\n",
       "      <td>1558378840</td>\n",
       "      <td>32</td>\n",
       "      <td>33.97</td>\n",
       "      <td>36.66</td>\n",
       "      <td>80.60</td>\n",
       "      <td>8.05</td>\n",
       "    </tr>\n",
       "    <tr>\n",
       "      <th>544</th>\n",
       "      <td>544</td>\n",
       "      <td>paraiso</td>\n",
       "      <td>5</td>\n",
       "      <td>MX</td>\n",
       "      <td>1558378898</td>\n",
       "      <td>4</td>\n",
       "      <td>24.01</td>\n",
       "      <td>-104.61</td>\n",
       "      <td>84.20</td>\n",
       "      <td>16.11</td>\n",
       "    </tr>\n",
       "    <tr>\n",
       "      <th>545</th>\n",
       "      <td>545</td>\n",
       "      <td>veraval</td>\n",
       "      <td>0</td>\n",
       "      <td>FR</td>\n",
       "      <td>1558378898</td>\n",
       "      <td>62</td>\n",
       "      <td>49.65</td>\n",
       "      <td>0.71</td>\n",
       "      <td>61.00</td>\n",
       "      <td>8.05</td>\n",
       "    </tr>\n",
       "    <tr>\n",
       "      <th>546</th>\n",
       "      <td>546</td>\n",
       "      <td>novyy urgal</td>\n",
       "      <td>100</td>\n",
       "      <td>RU</td>\n",
       "      <td>1558378899</td>\n",
       "      <td>93</td>\n",
       "      <td>51.07</td>\n",
       "      <td>132.56</td>\n",
       "      <td>49.74</td>\n",
       "      <td>2.68</td>\n",
       "    </tr>\n",
       "    <tr>\n",
       "      <th>547</th>\n",
       "      <td>547</td>\n",
       "      <td>tongren</td>\n",
       "      <td>4</td>\n",
       "      <td>CN</td>\n",
       "      <td>1558378899</td>\n",
       "      <td>64</td>\n",
       "      <td>27.72</td>\n",
       "      <td>109.18</td>\n",
       "      <td>55.86</td>\n",
       "      <td>2.84</td>\n",
       "    </tr>\n",
       "  </tbody>\n",
       "</table>\n",
       "<p>548 rows × 10 columns</p>\n",
       "</div>"
      ],
      "text/plain": [
       "     City_ID         City  Cloudiness Country        Date  Humidity    Lat  \\\n",
       "0          0    ostrovnoy           2      RU  1558378754        72  68.05   \n",
       "1          1    mahebourg          75      MU  1558378503        74 -20.41   \n",
       "2          2      qaanaaq          25      GL  1558378755        73  77.48   \n",
       "3          3       zhuhai           0      CN  1558378755        39  40.71   \n",
       "4          4    cape town          20      ZA  1558378755        76 -33.93   \n",
       "..       ...          ...         ...     ...         ...       ...    ...   \n",
       "543      543       yabrud           0      SY  1558378840        32  33.97   \n",
       "544      544      paraiso           5      MX  1558378898         4  24.01   \n",
       "545      545      veraval           0      FR  1558378898        62  49.65   \n",
       "546      546  novyy urgal         100      RU  1558378899        93  51.07   \n",
       "547      547      tongren           4      CN  1558378899        64  27.72   \n",
       "\n",
       "        Lng  Max Temp  Wind Speed  \n",
       "0     39.51     37.50        7.16  \n",
       "1     57.70     78.80       11.41  \n",
       "2    -69.36     22.20        2.37  \n",
       "3    112.04     44.60        4.47  \n",
       "4     18.42     55.99        8.05  \n",
       "..      ...       ...         ...  \n",
       "543   36.66     80.60        8.05  \n",
       "544 -104.61     84.20       16.11  \n",
       "545    0.71     61.00        8.05  \n",
       "546  132.56     49.74        2.68  \n",
       "547  109.18     55.86        2.84  \n",
       "\n",
       "[548 rows x 10 columns]"
      ]
     },
     "execution_count": 40,
     "metadata": {},
     "output_type": "execute_result"
    }
   ],
   "source": [
    "city_data"
   ]
  },
  {
   "cell_type": "markdown",
   "metadata": {},
   "source": [
    "## Inspect the data and remove the cities where the humidity > 100%.\n",
    "----\n",
    "Skip this step if there are no cities that have humidity > 100%. "
   ]
  },
  {
   "cell_type": "code",
   "execution_count": 20,
   "metadata": {},
   "outputs": [
    {
     "data": {
      "text/html": [
       "<div>\n",
       "<style scoped>\n",
       "    .dataframe tbody tr th:only-of-type {\n",
       "        vertical-align: middle;\n",
       "    }\n",
       "\n",
       "    .dataframe tbody tr th {\n",
       "        vertical-align: top;\n",
       "    }\n",
       "\n",
       "    .dataframe thead th {\n",
       "        text-align: right;\n",
       "    }\n",
       "</style>\n",
       "<table border=\"1\" class=\"dataframe\">\n",
       "  <thead>\n",
       "    <tr style=\"text-align: right;\">\n",
       "      <th></th>\n",
       "      <th>City_ID</th>\n",
       "      <th>City</th>\n",
       "      <th>Cloudiness</th>\n",
       "      <th>Country</th>\n",
       "      <th>Date</th>\n",
       "      <th>Humidity</th>\n",
       "      <th>Lat</th>\n",
       "      <th>Lng</th>\n",
       "      <th>Max Temp</th>\n",
       "      <th>Wind Speed</th>\n",
       "    </tr>\n",
       "  </thead>\n",
       "  <tbody>\n",
       "    <tr>\n",
       "      <th>129</th>\n",
       "      <td>129</td>\n",
       "      <td>paita</td>\n",
       "      <td>0</td>\n",
       "      <td>PE</td>\n",
       "      <td>1558378778</td>\n",
       "      <td>290</td>\n",
       "      <td>-5.09</td>\n",
       "      <td>-81.11</td>\n",
       "      <td>62.6</td>\n",
       "      <td>17.22</td>\n",
       "    </tr>\n",
       "  </tbody>\n",
       "</table>\n",
       "</div>"
      ],
      "text/plain": [
       "     City_ID   City  Cloudiness Country        Date  Humidity   Lat    Lng  \\\n",
       "129      129  paita           0      PE  1558378778       290 -5.09 -81.11   \n",
       "\n",
       "     Max Temp  Wind Speed  \n",
       "129      62.6       17.22  "
      ]
     },
     "execution_count": 20,
     "metadata": {},
     "output_type": "execute_result"
    }
   ],
   "source": [
    "high_humidity = city_data.loc[city_data['Humidity']>100]\n",
    "\n",
    "high_humidity"
   ]
  },
  {
   "cell_type": "code",
   "execution_count": 43,
   "metadata": {},
   "outputs": [
    {
     "data": {
      "text/plain": [
       "1"
      ]
     },
     "execution_count": 43,
     "metadata": {},
     "output_type": "execute_result"
    }
   ],
   "source": [
    "#  Get the indices of cities that have humidity over 100%.\n",
    "len(high_humidity)"
   ]
  },
  {
   "cell_type": "code",
   "execution_count": 45,
   "metadata": {},
   "outputs": [
    {
     "data": {
      "text/html": [
       "<div>\n",
       "<style scoped>\n",
       "    .dataframe tbody tr th:only-of-type {\n",
       "        vertical-align: middle;\n",
       "    }\n",
       "\n",
       "    .dataframe tbody tr th {\n",
       "        vertical-align: top;\n",
       "    }\n",
       "\n",
       "    .dataframe thead th {\n",
       "        text-align: right;\n",
       "    }\n",
       "</style>\n",
       "<table border=\"1\" class=\"dataframe\">\n",
       "  <thead>\n",
       "    <tr style=\"text-align: right;\">\n",
       "      <th></th>\n",
       "      <th>City_ID</th>\n",
       "      <th>City</th>\n",
       "      <th>Cloudiness</th>\n",
       "      <th>Country</th>\n",
       "      <th>Date</th>\n",
       "      <th>Humidity</th>\n",
       "      <th>Lat</th>\n",
       "      <th>Lng</th>\n",
       "      <th>Max Temp</th>\n",
       "      <th>Wind Speed</th>\n",
       "    </tr>\n",
       "  </thead>\n",
       "  <tbody>\n",
       "    <tr>\n",
       "      <th>0</th>\n",
       "      <td>0</td>\n",
       "      <td>ostrovnoy</td>\n",
       "      <td>2</td>\n",
       "      <td>RU</td>\n",
       "      <td>1558378754</td>\n",
       "      <td>72</td>\n",
       "      <td>68.05</td>\n",
       "      <td>39.51</td>\n",
       "      <td>37.50</td>\n",
       "      <td>7.16</td>\n",
       "    </tr>\n",
       "    <tr>\n",
       "      <th>1</th>\n",
       "      <td>1</td>\n",
       "      <td>mahebourg</td>\n",
       "      <td>75</td>\n",
       "      <td>MU</td>\n",
       "      <td>1558378503</td>\n",
       "      <td>74</td>\n",
       "      <td>-20.41</td>\n",
       "      <td>57.70</td>\n",
       "      <td>78.80</td>\n",
       "      <td>11.41</td>\n",
       "    </tr>\n",
       "    <tr>\n",
       "      <th>2</th>\n",
       "      <td>2</td>\n",
       "      <td>qaanaaq</td>\n",
       "      <td>25</td>\n",
       "      <td>GL</td>\n",
       "      <td>1558378755</td>\n",
       "      <td>73</td>\n",
       "      <td>77.48</td>\n",
       "      <td>-69.36</td>\n",
       "      <td>22.20</td>\n",
       "      <td>2.37</td>\n",
       "    </tr>\n",
       "    <tr>\n",
       "      <th>3</th>\n",
       "      <td>3</td>\n",
       "      <td>zhuhai</td>\n",
       "      <td>0</td>\n",
       "      <td>CN</td>\n",
       "      <td>1558378755</td>\n",
       "      <td>39</td>\n",
       "      <td>40.71</td>\n",
       "      <td>112.04</td>\n",
       "      <td>44.60</td>\n",
       "      <td>4.47</td>\n",
       "    </tr>\n",
       "    <tr>\n",
       "      <th>4</th>\n",
       "      <td>4</td>\n",
       "      <td>cape town</td>\n",
       "      <td>20</td>\n",
       "      <td>ZA</td>\n",
       "      <td>1558378755</td>\n",
       "      <td>76</td>\n",
       "      <td>-33.93</td>\n",
       "      <td>18.42</td>\n",
       "      <td>55.99</td>\n",
       "      <td>8.05</td>\n",
       "    </tr>\n",
       "    <tr>\n",
       "      <th>...</th>\n",
       "      <td>...</td>\n",
       "      <td>...</td>\n",
       "      <td>...</td>\n",
       "      <td>...</td>\n",
       "      <td>...</td>\n",
       "      <td>...</td>\n",
       "      <td>...</td>\n",
       "      <td>...</td>\n",
       "      <td>...</td>\n",
       "      <td>...</td>\n",
       "    </tr>\n",
       "    <tr>\n",
       "      <th>543</th>\n",
       "      <td>543</td>\n",
       "      <td>yabrud</td>\n",
       "      <td>0</td>\n",
       "      <td>SY</td>\n",
       "      <td>1558378840</td>\n",
       "      <td>32</td>\n",
       "      <td>33.97</td>\n",
       "      <td>36.66</td>\n",
       "      <td>80.60</td>\n",
       "      <td>8.05</td>\n",
       "    </tr>\n",
       "    <tr>\n",
       "      <th>544</th>\n",
       "      <td>544</td>\n",
       "      <td>paraiso</td>\n",
       "      <td>5</td>\n",
       "      <td>MX</td>\n",
       "      <td>1558378898</td>\n",
       "      <td>4</td>\n",
       "      <td>24.01</td>\n",
       "      <td>-104.61</td>\n",
       "      <td>84.20</td>\n",
       "      <td>16.11</td>\n",
       "    </tr>\n",
       "    <tr>\n",
       "      <th>545</th>\n",
       "      <td>545</td>\n",
       "      <td>veraval</td>\n",
       "      <td>0</td>\n",
       "      <td>FR</td>\n",
       "      <td>1558378898</td>\n",
       "      <td>62</td>\n",
       "      <td>49.65</td>\n",
       "      <td>0.71</td>\n",
       "      <td>61.00</td>\n",
       "      <td>8.05</td>\n",
       "    </tr>\n",
       "    <tr>\n",
       "      <th>546</th>\n",
       "      <td>546</td>\n",
       "      <td>novyy urgal</td>\n",
       "      <td>100</td>\n",
       "      <td>RU</td>\n",
       "      <td>1558378899</td>\n",
       "      <td>93</td>\n",
       "      <td>51.07</td>\n",
       "      <td>132.56</td>\n",
       "      <td>49.74</td>\n",
       "      <td>2.68</td>\n",
       "    </tr>\n",
       "    <tr>\n",
       "      <th>547</th>\n",
       "      <td>547</td>\n",
       "      <td>tongren</td>\n",
       "      <td>4</td>\n",
       "      <td>CN</td>\n",
       "      <td>1558378899</td>\n",
       "      <td>64</td>\n",
       "      <td>27.72</td>\n",
       "      <td>109.18</td>\n",
       "      <td>55.86</td>\n",
       "      <td>2.84</td>\n",
       "    </tr>\n",
       "  </tbody>\n",
       "</table>\n",
       "<p>547 rows × 10 columns</p>\n",
       "</div>"
      ],
      "text/plain": [
       "     City_ID         City  Cloudiness Country        Date  Humidity    Lat  \\\n",
       "0          0    ostrovnoy           2      RU  1558378754        72  68.05   \n",
       "1          1    mahebourg          75      MU  1558378503        74 -20.41   \n",
       "2          2      qaanaaq          25      GL  1558378755        73  77.48   \n",
       "3          3       zhuhai           0      CN  1558378755        39  40.71   \n",
       "4          4    cape town          20      ZA  1558378755        76 -33.93   \n",
       "..       ...          ...         ...     ...         ...       ...    ...   \n",
       "543      543       yabrud           0      SY  1558378840        32  33.97   \n",
       "544      544      paraiso           5      MX  1558378898         4  24.01   \n",
       "545      545      veraval           0      FR  1558378898        62  49.65   \n",
       "546      546  novyy urgal         100      RU  1558378899        93  51.07   \n",
       "547      547      tongren           4      CN  1558378899        64  27.72   \n",
       "\n",
       "        Lng  Max Temp  Wind Speed  \n",
       "0     39.51     37.50        7.16  \n",
       "1     57.70     78.80       11.41  \n",
       "2    -69.36     22.20        2.37  \n",
       "3    112.04     44.60        4.47  \n",
       "4     18.42     55.99        8.05  \n",
       "..      ...       ...         ...  \n",
       "543   36.66     80.60        8.05  \n",
       "544 -104.61     84.20       16.11  \n",
       "545    0.71     61.00        8.05  \n",
       "546  132.56     49.74        2.68  \n",
       "547  109.18     55.86        2.84  \n",
       "\n",
       "[547 rows x 10 columns]"
      ]
     },
     "execution_count": 45,
     "metadata": {},
     "output_type": "execute_result"
    }
   ],
   "source": [
    "# Make a new DataFrame equal to the city data to drop all humidity outliers by index.\n",
    "# Passing \"inplace=False\" will make a copy of the city_data DataFrame, which we call \"clean_city_data\".\n",
    "clean_city_data = city_data.loc[city_data['Humidity']<=100]\n",
    "\n",
    "clean_city_data"
   ]
  },
  {
   "cell_type": "markdown",
   "metadata": {},
   "source": [
    "## Plotting the Data\n",
    "* Use proper labeling of the plots using plot titles (including date of analysis) and axes labels.\n",
    "* Save the plotted figures as .pngs."
   ]
  },
  {
   "cell_type": "markdown",
   "metadata": {},
   "source": [
    "## Latitude vs. Temperature Plot"
   ]
  },
  {
   "cell_type": "code",
   "execution_count": 46,
   "metadata": {
    "scrolled": true
   },
   "outputs": [
    {
     "data": {
      "image/png": "[encoded data removed]",
      "text/plain": [
       "<Figure size 432x288 with 1 Axes>"
      ]
     },
     "metadata": {
      "needs_background": "light"
     },
     "output_type": "display_data"
    }
   ],
   "source": [
    "x_values = clean_city_data['Lat']\n",
    "y_values = clean_city_data['Max Temp']\n",
    "plt.scatter(x_values,y_values)\n",
    "plt.xlabel('Latitude')\n",
    "plt.ylabel('Max Temperature (F)')\n",
    "plt.title('City Latitude vs. Max Temperature')\n",
    "plt.show()"
   ]
  },
  {
   "cell_type": "markdown",
   "metadata": {},
   "source": [
    "## Latitude vs. Humidity Plot"
   ]
  },
  {
   "cell_type": "code",
   "execution_count": 48,
   "metadata": {},
   "outputs": [
    {
     "data": {
      "image/png": "[encoded data removed]",
      "text/plain": [
       "<Figure size 432x288 with 1 Axes>"
      ]
     },
     "metadata": {
      "needs_background": "light"
     },
     "output_type": "display_data"
    }
   ],
   "source": [
    "x_values = clean_city_data['Lat']\n",
    "y_values = clean_city_data['Humidity']\n",
    "plt.scatter(x_values,y_values)\n",
    "plt.xlabel('Latitude')\n",
    "plt.ylabel('Humidity (%)')\n",
    "plt.title('City Latitude vs. Humidity')\n",
    "plt.show()"
   ]
  },
  {
   "cell_type": "markdown",
   "metadata": {},
   "source": [
    "## Latitude vs. Cloudiness Plot"
   ]
  },
  {
   "cell_type": "code",
   "execution_count": 50,
   "metadata": {},
   "outputs": [
    {
     "data": {
      "image/png": "[encoded data removed]",
      "text/plain": [
       "<Figure size 432x288 with 1 Axes>"
      ]
     },
     "metadata": {
      "needs_background": "light"
     },
     "output_type": "display_data"
    }
   ],
   "source": [
    "x_values = clean_city_data['Lat']\n",
    "y_values = clean_city_data['Cloudiness']\n",
    "plt.scatter(x_values,y_values)\n",
    "plt.xlabel('Latitude')\n",
    "plt.ylabel('Cloudiness (%)')\n",
    "plt.title('City Latitude vs. Cloudiness')\n",
    "plt.show()"
   ]
  },
  {
   "cell_type": "markdown",
   "metadata": {},
   "source": [
    "## Latitude vs. Wind Speed Plot"
   ]
  },
  {
   "cell_type": "code",
   "execution_count": 51,
   "metadata": {},
   "outputs": [
    {
     "data": {
      "image/png": "[encoded data removed]",
      "text/plain": [
       "<Figure size 432x288 with 1 Axes>"
      ]
     },
     "metadata": {
      "needs_background": "light"
     },
     "output_type": "display_data"
    }
   ],
   "source": [
    "x_values = clean_city_data['Lat']\n",
    "y_values = clean_city_data['Wind Speed']\n",
    "plt.scatter(x_values,y_values)\n",
    "plt.xlabel('Latitude')\n",
    "plt.ylabel('Wind Speed (mph)')\n",
    "plt.title('City Latitude vs. Wind Speed')\n",
    "plt.show()"
   ]
  },
  {
   "cell_type": "markdown",
   "metadata": {},
   "source": [
    "## Linear Regression"
   ]
  },
  {
   "cell_type": "code",
   "execution_count": 57,
   "metadata": {},
   "outputs": [],
   "source": [
    "northern_hemisphere_data = clean_city_data.loc[clean_city_data['Lng']>0]\n",
    "southern_hemisphere_data = clean_city_data.loc[clean_city_data['Lng']<0]"
   ]
  },
  {
   "cell_type": "markdown",
   "metadata": {},
   "source": [
    "####  Northern Hemisphere - Max Temp vs. Latitude Linear Regression"
   ]
  },
  {
   "cell_type": "code",
   "execution_count": 71,
   "metadata": {},
   "outputs": [
    {
     "name": "stdout",
     "output_type": "stream",
     "text": [
      "The r-value is: -0.43\n"
     ]
    },
    {
     "data": {
      "image/png": "[encoded data removed]",
      "text/plain": [
       "<Figure size 432x288 with 1 Axes>"
      ]
     },
     "metadata": {
      "needs_background": "light"
     },
     "output_type": "display_data"
    }
   ],
   "source": [
    "x_values = northern_hemisphere_data['Lat']\n",
    "y_values = northern_hemisphere_data['Max Temp']\n",
    "plt.scatter(x_values,y_values)\n",
    "plt.xlabel('Latitude')\n",
    "plt.ylabel('Maximum Temperature (F)')\n",
    "plt.title('Latitude vs. Maximum Temperature (Northern Hemisphere)')\n",
    "(slope, intercept, rvalue, pvalue, stderr) = linregress(x_values, y_values)\n",
    "regress_values = x_values * slope + intercept\n",
    "line_eq = \"y = \" + str(round(slope,2)) + \"x + \" + str(round(intercept,2))\n",
    "plt.scatter(x_values,y_values)\n",
    "plt.plot(x_values,regress_values,\"r-\")\n",
    "plt.annotate(line_eq,(40,65),fontsize=15,color=\"blue\")\n",
    "\n",
    "print(f\"The r-value is: {round(rvalue,2)}\")\n",
    "plt.show()"
   ]
  },
  {
   "cell_type": "markdown",
   "metadata": {},
   "source": [
    "####  Southern Hemisphere - Max Temp vs. Latitude Linear Regression"
   ]
  },
  {
   "cell_type": "code",
   "execution_count": 72,
   "metadata": {},
   "outputs": [
    {
     "name": "stdout",
     "output_type": "stream",
     "text": [
      "The r-value is: -0.37\n"
     ]
    },
    {
     "data": {
      "image/png": "[encoded data removed]",
      "text/plain": [
       "<Figure size 432x288 with 1 Axes>"
      ]
     },
     "metadata": {
      "needs_background": "light"
     },
     "output_type": "display_data"
    }
   ],
   "source": [
    "x_values = southern_hemisphere_data['Lat']\n",
    "y_values = southern_hemisphere_data['Max Temp']\n",
    "plt.scatter(x_values,y_values)\n",
    "plt.xlabel('Latitude')\n",
    "plt.ylabel('Maximum Temperature (F)')\n",
    "plt.title('Latitude vs. Maximum Temperature (Southern Hemisphere)')\n",
    "(slope, intercept, rvalue, pvalue, stderr) = linregress(x_values, y_values)\n",
    "regress_values = x_values * slope + intercept\n",
    "line_eq = \"y = \" + str(round(slope,2)) + \"x + \" + str(round(intercept,2))\n",
    "plt.scatter(x_values,y_values)\n",
    "plt.plot(x_values,regress_values,\"r-\")\n",
    "plt.annotate(line_eq,(40,68),fontsize=15,color=\"blue\")\n",
    "\n",
    "print(f\"The r-value is: {round(rvalue,2)}\")\n",
    "plt.show()"
   ]
  },
  {
   "cell_type": "markdown",
   "metadata": {},
   "source": [
    "####  Northern Hemisphere - Humidity (%) vs. Latitude Linear Regression"
   ]
  },
  {
   "cell_type": "code",
   "execution_count": 73,
   "metadata": {},
   "outputs": [
    {
     "name": "stdout",
     "output_type": "stream",
     "text": [
      "The r-value is: -0.1\n"
     ]
    },
    {
     "data": {
      "image/png": "[encoded data removed]",
      "text/plain": [
       "<Figure size 432x288 with 1 Axes>"
      ]
     },
     "metadata": {
      "needs_background": "light"
     },
     "output_type": "display_data"
    }
   ],
   "source": [
    "x_values = northern_hemisphere_data['Lat']\n",
    "y_values = northern_hemisphere_data['Humidity']\n",
    "plt.scatter(x_values,y_values)\n",
    "plt.xlabel('Latitude')\n",
    "plt.ylabel('Humidity (%)')\n",
    "plt.title('Latitude vs. Humidity (Northern Hemisphere)')\n",
    "(slope, intercept, rvalue, pvalue, stderr) = linregress(x_values, y_values)\n",
    "regress_values = x_values * slope + intercept\n",
    "line_eq = \"y = \" + str(round(slope,2)) + \"x + \" + str(round(intercept,2))\n",
    "plt.scatter(x_values,y_values)\n",
    "plt.plot(x_values,regress_values,\"r-\")\n",
    "plt.annotate(line_eq,(40,60),fontsize=15,color=\"blue\")\n",
    "\n",
    "print(f\"The r-value is: {round(rvalue,2)}\")\n",
    "plt.show()"
   ]
  },
  {
   "cell_type": "markdown",
   "metadata": {},
   "source": [
    "####  Southern Hemisphere - Humidity (%) vs. Latitude Linear Regression"
   ]
  },
  {
   "cell_type": "code",
   "execution_count": 74,
   "metadata": {},
   "outputs": [
    {
     "name": "stdout",
     "output_type": "stream",
     "text": [
      "The r-value is: -0.01\n"
     ]
    },
    {
     "data": {
      "image/png": "[encoded data removed]",
      "text/plain": [
       "<Figure size 432x288 with 1 Axes>"
      ]
     },
     "metadata": {
      "needs_background": "light"
     },
     "output_type": "display_data"
    }
   ],
   "source": [
    "x_values = southern_hemisphere_data['Lat']\n",
    "y_values = southern_hemisphere_data['Humidity']\n",
    "plt.scatter(x_values,y_values)\n",
    "plt.xlabel('Latitude')\n",
    "plt.ylabel('Humidity (%)')\n",
    "plt.title('Latitude vs. Humidity (Southern Hemisphere)')\n",
    "(slope, intercept, rvalue, pvalue, stderr) = linregress(x_values, y_values)\n",
    "regress_values = x_values * slope + intercept\n",
    "line_eq = \"y = \" + str(round(slope,2)) + \"x + \" + str(round(intercept,2))\n",
    "plt.scatter(x_values,y_values)\n",
    "plt.plot(x_values,regress_values,\"r-\")\n",
    "plt.annotate(line_eq,(40,65),fontsize=15,color=\"blue\")\n",
    "\n",
    "print(f\"The r-value is: {round(rvalue,2)}\")\n",
    "plt.show()"
   ]
  },
  {
   "cell_type": "markdown",
   "metadata": {},
   "source": [
    "####  Northern Hemisphere - Cloudiness (%) vs. Latitude Linear Regression"
   ]
  },
  {
   "cell_type": "code",
   "execution_count": 66,
   "metadata": {},
   "outputs": [
    {
     "name": "stdout",
     "output_type": "stream",
     "text": [
      "The r-value is: 0.05\n"
     ]
    },
    {
     "data": {
      "image/png": "[encoded data removed]",
      "text/plain": [
       "<Figure size 432x288 with 1 Axes>"
      ]
     },
     "metadata": {
      "needs_background": "light"
     },
     "output_type": "display_data"
    }
   ],
   "source": [
    "x_values = northern_hemisphere_data['Lat']\n",
    "y_values = northern_hemisphere_data['Cloudiness']\n",
    "plt.scatter(x_values,y_values)\n",
    "plt.xlabel('Latitude')\n",
    "plt.ylabel('Cloudiness (%)')\n",
    "plt.title('Latitude vs. Cloudiness (Northern Hemisphere)')\n",
    "(slope, intercept, rvalue, pvalue, stderr) = linregress(x_values, y_values)\n",
    "regress_values = x_values * slope + intercept\n",
    "line_eq = \"y = \" + str(round(slope,2)) + \"x + \" + str(round(intercept,2))\n",
    "plt.scatter(x_values,y_values)\n",
    "plt.plot(x_values,regress_values,\"r-\")\n",
    "plt.annotate(line_eq,(40,60),fontsize=15,color=\"blue\")\n",
    "\n",
    "print(f\"The r-value is: {round(rvalue,2)}\")\n",
    "plt.show()"
   ]
  },
  {
   "cell_type": "markdown",
   "metadata": {},
   "source": [
    "####  Southern Hemisphere - Cloudiness (%) vs. Latitude Linear Regression"
   ]
  },
  {
   "cell_type": "code",
   "execution_count": 75,
   "metadata": {},
   "outputs": [
    {
     "name": "stdout",
     "output_type": "stream",
     "text": [
      "The r-value is: -0.05\n"
     ]
    },
    {
     "data": {
      "image/png": "[encoded data removed]",
      "text/plain": [
       "<Figure size 432x288 with 1 Axes>"
      ]
     },
     "metadata": {
      "needs_background": "light"
     },
     "output_type": "display_data"
    }
   ],
   "source": [
    "x_values = southern_hemisphere_data['Lat']\n",
    "y_values = southern_hemisphere_data['Cloudiness']\n",
    "plt.scatter(x_values,y_values)\n",
    "plt.xlabel('Latitude')\n",
    "plt.ylabel('Cloudiness (%)')\n",
    "plt.title('Latitude vs. Cloudiness (Southern Hemisphere)')\n",
    "(slope, intercept, rvalue, pvalue, stderr) = linregress(x_values, y_values)\n",
    "regress_values = x_values * slope + intercept\n",
    "line_eq = \"y = \" + str(round(slope,2)) + \"x + \" + str(round(intercept,2))\n",
    "plt.scatter(x_values,y_values)\n",
    "plt.plot(x_values,regress_values,\"r-\")\n",
    "plt.annotate(line_eq,(40,55),fontsize=15,color=\"blue\")\n",
    "\n",
    "print(f\"The r-value is: {round(rvalue,2)}\")\n",
    "plt.show()"
   ]
  },
  {
   "cell_type": "markdown",
   "metadata": {},
   "source": [
    "####  Northern Hemisphere - Wind Speed (mph) vs. Latitude Linear Regression"
   ]
  },
  {
   "cell_type": "code",
   "execution_count": 77,
   "metadata": {},
   "outputs": [
    {
     "name": "stdout",
     "output_type": "stream",
     "text": [
      "The r-value is: 0.11\n"
     ]
    },
    {
     "data": {
      "image/png": "[encoded data removed]",
      "text/plain": [
       "<Figure size 432x288 with 1 Axes>"
      ]
     },
     "metadata": {
      "needs_background": "light"
     },
     "output_type": "display_data"
    }
   ],
   "source": [
    "x_values = northern_hemisphere_data['Lat']\n",
    "y_values = northern_hemisphere_data['Wind Speed']\n",
    "plt.scatter(x_values,y_values)\n",
    "plt.xlabel('Latitude')\n",
    "plt.ylabel('Wind Speed (mph)')\n",
    "plt.title('Latitude vs. Wind Speed (Northern Hemisphere)')\n",
    "(slope, intercept, rvalue, pvalue, stderr) = linregress(x_values, y_values)\n",
    "regress_values = x_values * slope + intercept\n",
    "line_eq = \"y = \" + str(round(slope,2)) + \"x + \" + str(round(intercept,2))\n",
    "plt.scatter(x_values,y_values)\n",
    "plt.plot(x_values,regress_values,\"r-\")\n",
    "plt.annotate(line_eq,(40,10),fontsize=15,color=\"blue\")\n",
    "\n",
    "print(f\"The r-value is: {round(rvalue,2)}\")\n",
    "plt.show()"
   ]
  },
  {
   "cell_type": "markdown",
   "metadata": {},
   "source": [
    "####  Southern Hemisphere - Wind Speed (mph) vs. Latitude Linear Regression"
   ]
  },
  {
   "cell_type": "code",
   "execution_count": 80,
   "metadata": {},
   "outputs": [
    {
     "name": "stdout",
     "output_type": "stream",
     "text": [
      "The r-value is: -0.04\n"
     ]
    },
    {
     "data": {
      "image/png": "[encoded data removed]",
      "text/plain": [
       "<Figure size 432x288 with 1 Axes>"
      ]
     },
     "metadata": {
      "needs_background": "light"
     },
     "output_type": "display_data"
    }
   ],
   "source": [
    "x_values = southern_hemisphere_data['Lat']\n",
    "y_values = southern_hemisphere_data['Wind Speed']\n",
    "plt.scatter(x_values,y_values)\n",
    "plt.xlabel('Latitude')\n",
    "plt.ylabel('Wind Speed (mph)')\n",
    "plt.title('Latitude vs. Wind Speed (Southern Hemisphere)')\n",
    "(slope, intercept, rvalue, pvalue, stderr) = linregress(x_values, y_values)\n",
    "regress_values = x_values * slope + intercept\n",
    "line_eq = \"y = \" + str(round(slope,2)) + \"x + \" + str(round(intercept,2))\n",
    "plt.scatter(x_values,y_values)\n",
    "plt.plot(x_values,regress_values,\"r-\")\n",
    "plt.annotate(line_eq,(40,15),fontsize=15,color=\"blue\")\n",
    "\n",
    "print(f\"The r-value is: {round(rvalue,2)}\")\n",
    "plt.show()"
   ]
  },
  {
   "cell_type": "code",
   "execution_count": null,
   "metadata": {},
   "outputs": [],
   "source": []
  }
 ],
 "metadata": {
  "anaconda-cloud": {},
  "kernel_info": {
   "name": "python3"
  },
  "kernelspec": {
   "display_name": "Python 3",
   "language": "python",
   "name": "python3"
  },
  "language_info": {
   "codemirror_mode": {
    "name": "ipython",
    "version": 3
   },
   "file_extension": ".py",
   "mimetype": "text/x-python",
   "name": "python",
   "nbconvert_exporter": "python",
   "pygments_lexer": "ipython3",
   "version": "3.8.8"
  },
  "latex_envs": {
   "LaTeX_envs_menu_present": true,
   "autoclose": false,
   "autocomplete": true,
   "bibliofile": "biblio.bib",
   "cite_by": "apalike",
   "current_citInitial": 1,
   "eqLabelWithNumbers": true,
   "eqNumInitial": 1,
   "hotkeys": {
    "equation": "Ctrl-E",
    "itemize": "Ctrl-I"
   },
   "labels_anchors": false,
   "latex_user_defs": false,
   "report_style_numbering": false,
   "user_envs_cfg": false
  },
  "nteract": {
   "version": "0.12.3"
  }
 },
 "nbformat": 4,
 "nbformat_minor": 2
}
